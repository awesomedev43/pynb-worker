{
 "cells": [
  {
   "cell_type": "code",
   "execution_count": 101,
   "metadata": {},
   "outputs": [],
   "source": [
    "\n",
    "from nba_api.live.nba.endpoints import scoreboard\n",
    "from nba_api.live.nba.endpoints import BoxScore\n",
    "\n",
    "def fetch_finished_games():\n",
    "    games = scoreboard.ScoreBoard()\n",
    "    games = games.get_dict()[\"scoreboard\"][\"games\"]\n",
    "    game_ids = [game['gameId'] for game in games if game['gameStatusText'] == 'Final' ]\n",
    "    return game_ids\n",
    "\n",
    "def fetch_game_results(game_ids):\n",
    "    res = []\n",
    "    for game_id in game_ids:\n",
    "        box_score = BoxScore(game_id=game_id).get_dict()['game']\n",
    "        away_team = box_score['awayTeam']\n",
    "        home_team = box_score['homeTeam']\n",
    "\n",
    "        winner = away_team  if away_team['score'] > home_team['score'] else home_team\n",
    "        loser = away_team  if away_team['score'] < home_team['score'] else home_team\n",
    "\n",
    "        res.append((winner, loser, box_score))\n",
    "\n",
    "    return res"
   ]
  },
  {
   "cell_type": "code",
   "execution_count": null,
   "metadata": {},
   "outputs": [],
   "source": [
    "from pprint import pprint\n",
    "\n",
    "games = fetch_finished_games()\n",
    "winners = fetch_game_results(games)\n",
    "\n",
    "winner, loser, box_score = winners[1]\n",
    "winner['players']\n",
    "\n",
    "players = winner['players']\n",
    "best_player = list(filter(lambda a: a['statistics']['points'] > 30, players))[0]\n",
    "\n",
    "stats = best_player['statistics']\n",
    "\n",
    "title = f\"{best_player['firstName']} {best_player['familyName']} scored {stats['points']} pts, {stats['reboundsTotal']} reb, and {stats['assists']} ast on {stats['fieldGoalsPercentage']*100:0.0f}/{stats['threePointersPercentage']*100:0.0f}/{stats['freeThrowsPercentage']*100:0.0f} shooting splits in a win against the {loser['teamName']}\"\n",
    "\n",
    "print(title)\n",
    "\n",
    "box_score['gameId']"
   ]
  }
 ],
 "metadata": {
  "kernelspec": {
   "display_name": "base",
   "language": "python",
   "name": "python3"
  },
  "language_info": {
   "codemirror_mode": {
    "name": "ipython",
    "version": 3
   },
   "file_extension": ".py",
   "mimetype": "text/x-python",
   "name": "python",
   "nbconvert_exporter": "python",
   "pygments_lexer": "ipython3",
   "version": "3.12.3"
  }
 },
 "nbformat": 4,
 "nbformat_minor": 2
}
