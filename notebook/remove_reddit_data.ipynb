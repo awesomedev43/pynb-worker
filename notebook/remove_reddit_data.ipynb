{
 "cells": [
  {
   "cell_type": "code",
   "execution_count": 1,
   "metadata": {},
   "outputs": [],
   "source": [
    "import praw\n",
    "import os\n",
    "\n",
    "reddit = praw.Reddit(\n",
    "    client_id=os.environ[\"REDDIT_API_CLIENT_ID\"],\n",
    "    client_secret=os.environ[\"REDDIT_API_SECRET\"],\n",
    "    password=os.environ[\"REDDIT_API_PASSWORD\"],\n",
    "    user_agent=os.environ[\"REDDIT_API_USER_AGENT\"],\n",
    "    username=os.environ[\"REDDIT_API_USER\"],\n",
    ")"
   ]
  },
  {
   "cell_type": "code",
   "execution_count": 2,
   "metadata": {},
   "outputs": [],
   "source": [
    "me = reddit.user.me()"
   ]
  },
  {
   "cell_type": "code",
   "execution_count": null,
   "metadata": {},
   "outputs": [],
   "source": [
    "for comment in me.comments.new(limit=None):\n",
    "    print(f\"Deleted {comment.body}\")\n",
    "    comment.delete()"
   ]
  },
  {
   "cell_type": "code",
   "execution_count": null,
   "metadata": {},
   "outputs": [],
   "source": [
    "for submission in me.submissions.new(limit=None):\n",
    "    print(f\"Deleting {submission.title}\")\n",
    "    submission.delete()"
   ]
  }
 ],
 "metadata": {
  "kernelspec": {
   "display_name": "base",
   "language": "python",
   "name": "python3"
  },
  "language_info": {
   "codemirror_mode": {
    "name": "ipython",
    "version": 3
   },
   "file_extension": ".py",
   "mimetype": "text/x-python",
   "name": "python",
   "nbconvert_exporter": "python",
   "pygments_lexer": "ipython3",
   "version": "3.12.3"
  }
 },
 "nbformat": 4,
 "nbformat_minor": 2
}
